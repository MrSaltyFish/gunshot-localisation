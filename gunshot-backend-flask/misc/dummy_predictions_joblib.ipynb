{
 "cells": [
  {
   "cell_type": "code",
   "execution_count": null,
   "metadata": {},
   "outputs": [
    {
     "name": "stdout",
     "output_type": "stream",
     "text": [
      "Predictions saved successfully!\n"
     ]
    }
   ],
   "source": [
    "import numpy as np\n",
    "import joblib\n",
    "\n",
    "# Create dummy prediction results\n",
    "predictions = {\n",
    "    \"gunshot_detected\": True,\n",
    "    \"source_location\": (12.34, 56.78, 90.12),\n",
    "    \"confidence\": 0.95\n",
    "}\n",
    "\n",
    "# Save the predictions using joblib\n",
    "joblib.dump(predictions, \"predictions.joblib\")\n",
    "\n",
    "print(\"Predictions saved successfully!\")\n"
   ]
  }
 ],
 "metadata": {
  "kernelspec": {
   "display_name": "Python 3",
   "language": "python",
   "name": "python3"
  },
  "language_info": {
   "codemirror_mode": {
    "name": "ipython",
    "version": 3
   },
   "file_extension": ".py",
   "mimetype": "text/x-python",
   "name": "python",
   "nbconvert_exporter": "python",
   "pygments_lexer": "ipython3",
   "version": "3.12.9"
  }
 },
 "nbformat": 4,
 "nbformat_minor": 2
}
